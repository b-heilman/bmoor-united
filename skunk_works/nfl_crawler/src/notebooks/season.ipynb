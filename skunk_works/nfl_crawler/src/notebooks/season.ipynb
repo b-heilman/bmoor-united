{
 "cells": [
  {
   "cell_type": "code",
   "execution_count": 14,
   "metadata": {},
   "outputs": [
    {
     "name": "stderr",
     "output_type": "stream",
     "text": [
      "/var/folders/sx/xmtc134d0w520kgzwx2q0zsh0000gn/T/ipykernel_12617/551643753.py:11: UserWarning: Boolean Series key will be reindexed to match DataFrame index.\n",
      "  season_df = team_df[(df['season'] == 2023) & (df['week'] < 16)]\n"
     ]
    },
    {
     "data": {
      "text/plain": [
       "[{'season': 2023, 'week': 15, 'opponent': 'SEA'},\n",
       " {'season': 2023, 'week': 14, 'opponent': 'DAL'},\n",
       " {'season': 2023, 'week': 13, 'opponent': 'SF'},\n",
       " {'season': 2023, 'week': 12, 'opponent': 'BUF'},\n",
       " {'season': 2023, 'week': 11, 'opponent': 'KC'},\n",
       " {'season': 2023, 'week': 9, 'opponent': 'DAL'},\n",
       " {'season': 2023, 'week': 8, 'opponent': 'WSH'},\n",
       " {'season': 2023, 'week': 7, 'opponent': 'MIA'},\n",
       " {'season': 2023, 'week': 6, 'opponent': 'NYJ'},\n",
       " {'season': 2023, 'week': 5, 'opponent': 'STL'},\n",
       " {'season': 2023, 'week': 4, 'opponent': 'WSH'},\n",
       " {'season': 2023, 'week': 3, 'opponent': 'TB'},\n",
       " {'season': 2023, 'week': 2, 'opponent': 'MIN'},\n",
       " {'season': 2023, 'week': 1, 'opponent': 'NE'}]"
      ]
     },
     "execution_count": 14,
     "metadata": {},
     "output_type": "execute_result"
    }
   ],
   "source": [
    "import pandas as pd\n",
    "\n",
    "df = pd.read_parquet(\"../cache/parquet/games.parquet\").sort_values(\n",
    "    by=[\"season\", \"week\"], ascending=False\n",
    ")\n",
    "\n",
    "# df[df['game_id'] == '201909080car']\n",
    "# select = df[df['playerDisplay'] == 'Kenneth Gainwell']\n",
    "\n",
    "# select.sort_values(by=['season','week'])\n",
    "team_df = df[(df[\"homeTeamDisplay\"] == \"PHI\") | (df[\"awayTeamDisplay\"] == \"PHI\")]\n",
    "\n",
    "season_df = team_df[(df[\"season\"] == 2023) & (df[\"week\"] < 16)]\n",
    "\n",
    "\n",
    "def reduce_row(row):\n",
    "    return {\n",
    "        \"season\": row[\"season\"],\n",
    "        \"week\": row[\"week\"],\n",
    "        \"opponent\": row[\"homeTeamDisplay\"]\n",
    "        if row[\"homeTeamDisplay\"] != \"PHI\"\n",
    "        else row[\"awayTeamDisplay\"],\n",
    "    }\n",
    "\n",
    "\n",
    "opponents = list(season_df.apply(reduce_row, axis=1))\n",
    "\n",
    "opponents"
   ]
  }
 ],
 "metadata": {
  "kernelspec": {
   "display_name": "Python 3",
   "language": "python",
   "name": "python3"
  },
  "language_info": {
   "codemirror_mode": {
    "name": "ipython",
    "version": 3
   },
   "file_extension": ".py",
   "mimetype": "text/x-python",
   "name": "python",
   "nbconvert_exporter": "python",
   "pygments_lexer": "ipython3",
   "version": "3.12.3"
  }
 },
 "nbformat": 4,
 "nbformat_minor": 2
}
