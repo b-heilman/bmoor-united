{
 "cells": [
  {
   "cell_type": "code",
   "execution_count": 24,
   "metadata": {},
   "outputs": [
    {
     "name": "stdout",
     "output_type": "stream",
     "text": [
      "      season  week     gameId gameDisplay           gameDate homeTeamId  \\\n",
      "0       2024     6  401671820  IND vs TEN  2024-10-13T17:00Z         10   \n",
      "1       2024     6  401671819   SF vs SEA  2024-10-11T00:15Z         26   \n",
      "2       2024     6  401671714  CLE vs PHI  2024-10-13T17:00Z         21   \n",
      "3       2024     6  401671657   PIT vs LV  2024-10-13T20:05Z         13   \n",
      "4       2024     6  401671684  BUF vs NYJ  2024-10-15T00:15Z         20   \n",
      "...      ...   ...        ...         ...                ...        ...   \n",
      "1784    2015     3  400791491  ATL vs DAL  2015-09-27T17:00Z          6   \n",
      "1785    2015     3  400791500  OAK vs CLE  2015-09-27T17:00Z          5   \n",
      "1786    2015     3  400791557   NO vs CAR  2015-09-27T17:00Z         29   \n",
      "1787    2015     3  400791546  CIN vs BAL  2015-09-27T17:00Z         33   \n",
      "1788    2015     3  400791597   SF vs ARI  2015-09-27T20:05Z         22   \n",
      "\n",
      "     homeTeamDisplay  homeScore awayTeamId awayTeamDisplay  awayScore  \\\n",
      "0                TEN         17         11             IND         20   \n",
      "1                SEA         24         25              SF         36   \n",
      "2                PHI         20          5             CLE         16   \n",
      "3                OAK         13         23             PIT         32   \n",
      "4                NYJ         20          2             BUF         23   \n",
      "...              ...        ...        ...             ...        ...   \n",
      "1784             DAL         28          1             ATL         39   \n",
      "1785             CLE         20         13             OAK         27   \n",
      "1786             CAR         27         18              NO         22   \n",
      "1787             BAL         24          4             CIN         28   \n",
      "1788             ARI         47         25              SF          7   \n",
      "\n",
      "      neutralField  grade  expected      rating       stats  \n",
      "0            False      0     False  159.399844 -318.486069  \n",
      "1            False      0     False  -24.306123   90.601759  \n",
      "2            False      2      True   37.954315  210.675767  \n",
      "3            False      0     False -109.411153   47.557733  \n",
      "4            False      0     False    8.924826 -151.430817  \n",
      "...            ...    ...       ...         ...         ...  \n",
      "1784         False      0     False  187.063690 -213.839406  \n",
      "1785         False      0     False   52.843798 -283.042442  \n",
      "1786         False      0      True  222.969668 -495.304917  \n",
      "1787         False     -2     False -156.616801  -14.329669  \n",
      "1788         False      0      True  223.331789 -159.388433  \n",
      "\n",
      "[1789 rows x 16 columns]\n"
     ]
    }
   ],
   "source": [
    "import sys\n",
    "import os\n",
    "import pandas as pd\n",
    "\n",
    "# Get the directory of the current notebook\n",
    "notebook_dir = os.path.dirname(os.path.abspath(\"__file__\"))\n",
    "\n",
    "# Add the parent directory to the system path\n",
    "sys.path.append(os.path.join(notebook_dir, \"..\"))\n",
    "\n",
    "run_results = pd.read_parquet(os.path.abspath(\n",
    "    os.path.join(notebook_dir, \"../../cache/parquet/run_results.parquet\")\n",
    "))\n",
    "\n",
    "print(run_results)"
   ]
  },
  {
   "cell_type": "code",
   "execution_count": 26,
   "metadata": {},
   "outputs": [
    {
     "name": "stdout",
     "output_type": "stream",
     "text": [
      "--sanity--\n",
      "total 1789\n",
      "home selected 0.2582448295136948\n",
      "away selected 0.26774734488541085\n",
      "unknown 0.47400782560089433\n",
      "aligned 0.5259921743991056\n",
      "Empty DataFrame\n",
      "Columns: [season, week, gameDisplay, rating, stats]\n",
      "Index: []\n",
      "accuracy 0.61211477151966\n",
      "rating -> 79.58858890360078 stats -> 92.83089496148301\n",
      "rating - incorrect 0.5225472155680109 72.99384720044515 387.82837453230945\n",
      "rating - correct 0.005083507365156947 83.76754848980184 500.6525509207397\n",
      "stats - incorrect 0.08643501266226394 90.83273063579537 374.3460023778987\n",
      "stats - correct 0.05323646704891871 94.09709284147606 380.9521518688855\n"
     ]
    }
   ],
   "source": [
    "def process_alignment(df: pd.DataFrame):\n",
    "    res = df[\n",
    "        ((df['rating'] > 0) & (df['stats'] > 0)) |\n",
    "        ((df['rating'] < 0) & (df['stats'] < 0))\n",
    "    ]\n",
    "\n",
    "    align = len(res.index) / len(df.index)\n",
    "\n",
    "    print('aligned', align)\n",
    "\n",
    "print('--sanity--')\n",
    "total = len(run_results.index)\n",
    "\n",
    "print('total', len(run_results.index))\n",
    "print('home selected', len(run_results[run_results['grade'] == 2].index) / total)\n",
    "print('away selected', len(run_results[run_results['grade'] == -2].index) / total)\n",
    "print('unknown', len(run_results[run_results['grade'] == 0].index) / total)\n",
    "\n",
    "process_alignment(run_results)\n",
    "\n",
    "chosen = run_results[\n",
    "    (run_results['grade'] == 2) | (run_results['grade'] == -2)\n",
    "]\n",
    "\n",
    "correct = chosen[\n",
    "    ((chosen['grade'] == 2) & (chosen['expected'] == True)) |\n",
    "    ((chosen['grade'] == -2) & (chosen['expected'] == False))\n",
    "]\n",
    "\n",
    "incorrect = chosen[~chosen.index.isin(correct.index)]\n",
    "\n",
    "print('accuracy', len(correct.index) / len(chosen.index))\n",
    "\n",
    "print('rating ->', chosen['rating'].abs().mean(), 'stats ->', chosen['stats'].abs().mean())\n",
    "column = incorrect['rating'].abs()\n",
    "print('rating - incorrect', column.min(), column.mean(), column.max())\n",
    "column = correct['rating'].abs()\n",
    "print('rating - correct', column.min(), column.mean(), column.max())\n",
    "\n",
    "column = incorrect['stats'].abs()\n",
    "print('stats - incorrect', column.min(), column.mean(), column.max())\n",
    "column = correct['stats'].abs()\n",
    "print('stats - correct', column.min(), column.mean(), column.max())"
   ]
  },
  {
   "cell_type": "code",
   "execution_count": 30,
   "metadata": {},
   "outputs": [
    {
     "name": "stdout",
     "output_type": "stream",
     "text": [
      "available 1789\n",
      "correct 109 chosen 157\n",
      "accuracy 0.6942675159235668\n"
     ]
    }
   ],
   "source": [
    "sub_select = chosen[\n",
    "    (abs(chosen['stats']) > 95) & (abs(chosen['rating']) > 85)\n",
    "]\n",
    "\n",
    "sub_correct = sub_select[\n",
    "    ((sub_select['grade'] == 2) & (sub_select['expected'] == True)) |\n",
    "    ((sub_select['grade'] == -2) & (sub_select['expected'] == False))\n",
    "]\n",
    "\n",
    "print('available', total)\n",
    "print('correct', len(sub_correct.index), 'chosen', len(sub_select.index))\n",
    "print('accuracy', len(sub_correct.index) / len(sub_select.index))"
   ]
  }
 ],
 "metadata": {
  "kernelspec": {
   "display_name": "Python 3",
   "language": "python",
   "name": "python3"
  },
  "language_info": {
   "codemirror_mode": {
    "name": "ipython",
    "version": 3
   },
   "file_extension": ".py",
   "mimetype": "text/x-python",
   "name": "python",
   "nbconvert_exporter": "python",
   "pygments_lexer": "ipython3",
   "version": "3.12.3"
  }
 },
 "nbformat": 4,
 "nbformat_minor": 2
}
