{
 "cells": [
  {
   "cell_type": "code",
   "execution_count": 2,
   "metadata": {},
   "outputs": [],
   "source": [
    "import os\n",
    "import sys\n",
    "\n",
    "# Get the directory of the current notebook\n",
    "notebook_dir = os.path.dirname(os.path.abspath(\"__file__\"))\n",
    "\n",
    "# Add the parent directory to the system path\n",
    "sys.path.append(os.path.abspath(os.path.join(notebook_dir, \"..\")))"
   ]
  },
  {
   "cell_type": "code",
   "execution_count": 3,
   "metadata": {},
   "outputs": [
    {
     "data": {
      "text/plain": [
       "{'home_ratings': qb1          131.718140\n",
       " wr1          153.313004\n",
       " wr2           88.513706\n",
       " wr3           73.780594\n",
       " rb1          201.644471\n",
       " rb2           66.456891\n",
       " passing      126.275114\n",
       " receiving    204.675059\n",
       " rushing      177.489763\n",
       " team         512.017721\n",
       " prime        119.237801\n",
       " usage        169.479979\n",
       " dtype: float64,\n",
       " 'away_ratings': qb1          115.107596\n",
       " wr1           98.150757\n",
       " wr2           97.553383\n",
       " wr3           55.796989\n",
       " rb1           67.397764\n",
       " rb2           80.863965\n",
       " passing       99.712374\n",
       " receiving    224.150028\n",
       " rushing      150.845722\n",
       " team         473.586676\n",
       " prime         85.811742\n",
       " usage        158.236041\n",
       " dtype: float64,\n",
       " 'home_usages': qb1          passCmp         13.526705\n",
       " passAtt         16.7...\n",
       " wr1          passCmp          0.000000\n",
       " passAtt         -0.0...\n",
       " wr2          passCmp         0.000000\n",
       " passAtt         0.000...\n",
       " wr3          passCmp         0.000000\n",
       " passAtt         0.000...\n",
       " rb1          passCmp         -1.831068\n",
       " passAtt         -2.7...\n",
       " rb2          passCmp         17.884310\n",
       " passAtt         24.2...\n",
       " passing      passCmp         13.314998\n",
       " passAtt         15.9...\n",
       " receiving    passCmp          0.000000\n",
       " passAtt         -0.0...\n",
       " rushing      passCmp         13.968166\n",
       " passAtt         16.7...\n",
       " team         passCmp         13.502498\n",
       " passAtt         16.0...\n",
       " prime        passCmp         4.929991\n",
       " passAtt         6.368...\n",
       " usage        passCmp          9.094388\n",
       " passAtt         10.8...\n",
       " dtype: object,\n",
       " 'away_usages': qb1          passCmp         18.325215\n",
       " passAtt         26.9...\n",
       " wr1          passCmp         0.000000\n",
       " passAtt        -0.055...\n",
       " wr2          passCmp         0.000000\n",
       " passAtt         0.000...\n",
       " wr3          passCmp         0.000000\n",
       " passAtt         0.000...\n",
       " rb1          passCmp         7.384505\n",
       " passAtt        10.597...\n",
       " rb2          passCmp         11.002348\n",
       " passAtt         13.2...\n",
       " passing      passCmp         22.162062\n",
       " passAtt         33.1...\n",
       " receiving    passCmp          0.000000\n",
       " passAtt         -0.0...\n",
       " rushing      passCmp         19.852961\n",
       " passAtt         27.6...\n",
       " team         passCmp         22.133491\n",
       " passAtt         33.0...\n",
       " prime        passCmp         6.118678\n",
       " passAtt         8.458...\n",
       " usage        passCmp         14.005008\n",
       " passAtt         20.2...\n",
       " dtype: object}"
      ]
     },
     "execution_count": 3,
     "metadata": {},
     "output_type": "execute_result"
    }
   ],
   "source": [
    "from stats.compare import _build_training\n",
    "\n",
    "_build_training(2024, 8, 'PHI', 'WAS')"
   ]
  }
 ],
 "metadata": {
  "kernelspec": {
   "display_name": "Python 3",
   "language": "python",
   "name": "python3"
  },
  "language_info": {
   "codemirror_mode": {
    "name": "ipython",
    "version": 3
   },
   "file_extension": ".py",
   "mimetype": "text/x-python",
   "name": "python",
   "nbconvert_exporter": "python",
   "pygments_lexer": "ipython3",
   "version": "3.12.3"
  }
 },
 "nbformat": 4,
 "nbformat_minor": 2
}
